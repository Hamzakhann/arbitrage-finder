{
 "cells": [
  {
   "cell_type": "code",
   "execution_count": 10,
   "metadata": {
    "scrolled": false
   },
   "outputs": [
    {
     "name": "stdout",
     "output_type": "stream",
     "text": [
      "{'ticker': {'base': 'BTC', 'target': 'USD', 'price': '9047.22944733', 'volume': '98903.91109020', 'change': '-30.01451414', 'markets': [{'market': 'BitFinex', 'price': '9017.00000000', 'volume': 56320.8244512}, {'market': 'Bitstamp', 'price': '9033.29000000', 'volume': 12772.06153904}, {'market': 'Bittrex', 'price': '8990.02000000', 'volume': 4645.86916084}, {'market': 'C-Cex', 'price': '9705.00000000', 'volume': 1.40474442}, {'market': 'Cex.io', 'price': '9335.50000000', 'volume': 1611.88800521}, {'market': 'Exmo', 'price': '9408.00000000', 'volume': 1274.1782698}, {'market': 'Hitbtc', 'price': '9228.67000000', 'volume': 5483.18}, {'market': 'Kraken', 'price': '9025.10000000', 'volume': 10618.29946244}, {'market': 'Livecoin', 'price': '9329.88000000', 'volume': 1355.37188488}, {'market': 'Poloniex', 'price': '9017.23243200', 'volume': 3780.25418097}, {'market': 'wexnz', 'price': '9181.00000000', 'volume': 921.42819}, {'market': 'YoBit', 'price': '9620.00000000', 'volume': 119.1512014}]}, 'timestamp': 1520709481, 'success': True, 'error': ''}\n"
     ]
    },
    {
     "data": {
      "text/html": [
       "<div>\n",
       "<style>\n",
       "    .dataframe thead tr:only-child th {\n",
       "        text-align: right;\n",
       "    }\n",
       "\n",
       "    .dataframe thead th {\n",
       "        text-align: left;\n",
       "    }\n",
       "\n",
       "    .dataframe tbody tr th {\n",
       "        vertical-align: top;\n",
       "    }\n",
       "</style>\n",
       "<table border=\"1\" class=\"dataframe\">\n",
       "  <thead>\n",
       "    <tr style=\"text-align: right;\">\n",
       "      <th></th>\n",
       "      <th>error</th>\n",
       "      <th>success</th>\n",
       "      <th>ticker</th>\n",
       "      <th>timestamp</th>\n",
       "    </tr>\n",
       "  </thead>\n",
       "  <tbody>\n",
       "    <tr>\n",
       "      <th>base</th>\n",
       "      <td></td>\n",
       "      <td>True</td>\n",
       "      <td>BTC</td>\n",
       "      <td>1520709481</td>\n",
       "    </tr>\n",
       "    <tr>\n",
       "      <th>change</th>\n",
       "      <td></td>\n",
       "      <td>True</td>\n",
       "      <td>-30.01451414</td>\n",
       "      <td>1520709481</td>\n",
       "    </tr>\n",
       "    <tr>\n",
       "      <th>markets</th>\n",
       "      <td></td>\n",
       "      <td>True</td>\n",
       "      <td>[{'market': 'BitFinex', 'price': '9017.0000000...</td>\n",
       "      <td>1520709481</td>\n",
       "    </tr>\n",
       "    <tr>\n",
       "      <th>price</th>\n",
       "      <td></td>\n",
       "      <td>True</td>\n",
       "      <td>9047.22944733</td>\n",
       "      <td>1520709481</td>\n",
       "    </tr>\n",
       "    <tr>\n",
       "      <th>target</th>\n",
       "      <td></td>\n",
       "      <td>True</td>\n",
       "      <td>USD</td>\n",
       "      <td>1520709481</td>\n",
       "    </tr>\n",
       "    <tr>\n",
       "      <th>volume</th>\n",
       "      <td></td>\n",
       "      <td>True</td>\n",
       "      <td>98903.91109020</td>\n",
       "      <td>1520709481</td>\n",
       "    </tr>\n",
       "  </tbody>\n",
       "</table>\n",
       "</div>"
      ],
      "text/plain": [
       "        error  success                                             ticker  \\\n",
       "base              True                                                BTC   \n",
       "change            True                                       -30.01451414   \n",
       "markets           True  [{'market': 'BitFinex', 'price': '9017.0000000...   \n",
       "price             True                                      9047.22944733   \n",
       "target            True                                                USD   \n",
       "volume            True                                     98903.91109020   \n",
       "\n",
       "          timestamp  \n",
       "base     1520709481  \n",
       "change   1520709481  \n",
       "markets  1520709481  \n",
       "price    1520709481  \n",
       "target   1520709481  \n",
       "volume   1520709481  "
      ]
     },
     "execution_count": 10,
     "metadata": {},
     "output_type": "execute_result"
    }
   ],
   "source": [
    "import numpy as np\n",
    "import pandas as pd\n",
    "import requests\n",
    "import matplotlib.pyplot as plt\n",
    "getURL = requests.get('https://api.cryptonator.com/api/full/btc-usd').json()\n",
    "print(getURL)\n",
    "df1  = pd.DataFrame(getURL)\n",
    "df1\n"
   ]
  },
  {
   "cell_type": "code",
   "execution_count": 11,
   "metadata": {},
   "outputs": [
    {
     "name": "stdout",
     "output_type": "stream",
     "text": [
      "      market          price        volume\n",
      "0   BitFinex  9017.00000000  56320.824451\n",
      "1   Bitstamp  9033.29000000  12772.061539\n",
      "2    Bittrex  8990.02000000   4645.869161\n",
      "3      C-Cex  9705.00000000      1.404744\n",
      "4     Cex.io  9335.50000000   1611.888005\n",
      "5       Exmo  9408.00000000   1274.178270\n",
      "6     Hitbtc  9228.67000000   5483.180000\n",
      "7     Kraken  9025.10000000  10618.299462\n",
      "8   Livecoin  9329.88000000   1355.371885\n",
      "9   Poloniex  9017.23243200   3780.254181\n",
      "10     wexnz  9181.00000000    921.428190\n",
      "11     YoBit  9620.00000000    119.151201\n",
      "<class 'pandas.core.frame.DataFrame'>\n"
     ]
    }
   ],
   "source": [
    "df_ticker = pd.DataFrame(df1['ticker']['markets'])\n",
    "print(df_ticker)\n",
    "print(type(df_ticker))"
   ]
  },
  {
   "cell_type": "code",
   "execution_count": 15,
   "metadata": {},
   "outputs": [],
   "source": [
    "price = df_ticker['price'].astype('float')\n",
    "mar = list(df_ticker['market'])\n",
    "price = list(price)\n",
    "vol = list(df_ticker['volume'])\n",
    "def plot_txt(text , x_val , y_val):\n",
    "    for t , x , y in zip(text[:] , x_val[:] , y_val[:]):\n",
    "        plt.annotate(t , xy = (x , y))\n",
    "    plt.grid(True)\n",
    "    plt.scatter(x_val , y_val)\n",
    "    plt.show()"
   ]
  },
  {
   "cell_type": "code",
   "execution_count": 16,
   "metadata": {},
   "outputs": [
    {
     "data": {
      "image/png": "[encoded data removed]",
      "text/plain": [
       "<matplotlib.figure.Figure at 0x2753afa0f0>"
      ]
     },
     "metadata": {},
     "output_type": "display_data"
    }
   ],
   "source": [
    "plot_txt(mar , price , vol)"
   ]
  },
  {
   "cell_type": "code",
   "execution_count": null,
   "metadata": {
    "collapsed": true
   },
   "outputs": [],
   "source": []
  }
 ],
 "metadata": {
  "kernelspec": {
   "display_name": "Python 3",
   "language": "python",
   "name": "python3"
  },
  "language_info": {
   "codemirror_mode": {
    "name": "ipython",
    "version": 3
   },
   "file_extension": ".py",
   "mimetype": "text/x-python",
   "name": "python",
   "nbconvert_exporter": "python",
   "pygments_lexer": "ipython3",
   "version": "3.6.3"
  }
 },
 "nbformat": 4,
 "nbformat_minor": 2
}
